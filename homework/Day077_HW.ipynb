{
 "cells": [
  {
   "cell_type": "markdown",
   "metadata": {},
   "source": [
    "## Work\n",
    "1. 請將 Epoch 加到 500 個，並觀察 learning curve 的走勢\n",
    "2. 請將 Optimizer 換成 SGD，並觀察 learning curve 的走勢"
   ]
  },
  {
   "cell_type": "code",
   "execution_count": 2,
   "metadata": {},
   "outputs": [
    {
     "name": "stderr",
     "output_type": "stream",
     "text": [
      "C:\\ProgramData\\Anaconda3\\lib\\site-packages\\h5py\\__init__.py:36: FutureWarning: Conversion of the second argument of issubdtype from `float` to `np.floating` is deprecated. In future, it will be treated as `np.float64 == np.dtype(float).type`.\n",
      "  from ._conv import register_converters as _register_converters\n",
      "Using TensorFlow backend.\n"
     ]
    }
   ],
   "source": [
    "import os\n",
    "import keras\n",
    "\n",
    "# 本作業可以不需使用 GPU, 將 GPU 設定為 \"無\" (若有 GPU 且想開啟，可設為 \"0\")\n",
    "os.environ[\"CUDA_VISIBLE_DEVICES\"] = \"0\""
   ]
  },
  {
   "cell_type": "code",
   "execution_count": 3,
   "metadata": {},
   "outputs": [],
   "source": [
    "# 從 Keras 的內建功能中，取得 train 與 test 資料集\n",
    "train, test = keras.datasets.cifar10.load_data()"
   ]
  },
  {
   "cell_type": "code",
   "execution_count": 4,
   "metadata": {},
   "outputs": [],
   "source": [
    "# 將 X 與 Y 獨立放進變數\n",
    "x_train, y_train = train\n",
    "x_test, y_test = test\n",
    "# 資料前處理 - 標準化\n",
    "x_train = x_train / 255.\n",
    "x_test = x_test / 255.\n",
    "\n",
    "# 將資料從圖形 (RGB) 轉為向量 (Single Vector)\n",
    "x_train = x_train.reshape((len(x_train), -1))\n",
    "x_test = x_test.reshape((len(x_test), -1))\n",
    "\n",
    "# 將目標轉為 one-hot encoding\n",
    "y_train = keras.utils.to_categorical(y_train, num_classes=10)\n",
    "y_test = keras.utils.to_categorical(y_test, num_classes=10)"
   ]
  },
  {
   "cell_type": "code",
   "execution_count": 5,
   "metadata": {},
   "outputs": [],
   "source": [
    "# 建立一個有三層隱藏層之神經網路\n",
    "def build_mlp():\n",
    "    input_layer = keras.layers.Input([x_train.shape[-1]])\n",
    "    x = keras.layers.Dense(units=512, activation=\"relu\")(input_layer)\n",
    "    x = keras.layers.Dense(units=256, activation=\"relu\")(x)\n",
    "    x = keras.layers.Dense(units=128, activation=\"relu\")(x)\n",
    "    out = keras.layers.Dense(units=10, activation=\"softmax\")(x)\n",
    "    \n",
    "    model = keras.models.Model(inputs=[input_layer], outputs=[out])\n",
    "    return model\n",
    "model = build_mlp()"
   ]
  },
  {
   "cell_type": "code",
   "execution_count": 6,
   "metadata": {},
   "outputs": [
    {
     "name": "stdout",
     "output_type": "stream",
     "text": [
      "_________________________________________________________________\n",
      "Layer (type)                 Output Shape              Param #   \n",
      "=================================================================\n",
      "input_2 (InputLayer)         (None, 3072)              0         \n",
      "_________________________________________________________________\n",
      "dense_5 (Dense)              (None, 512)               1573376   \n",
      "_________________________________________________________________\n",
      "dense_6 (Dense)              (None, 256)               131328    \n",
      "_________________________________________________________________\n",
      "dense_7 (Dense)              (None, 128)               32896     \n",
      "_________________________________________________________________\n",
      "dense_8 (Dense)              (None, 10)                1290      \n",
      "=================================================================\n",
      "Total params: 1,738,890\n",
      "Trainable params: 1,738,890\n",
      "Non-trainable params: 0\n",
      "_________________________________________________________________\n"
     ]
    }
   ],
   "source": [
    "\"\"\"\n",
    "Compile 模型\n",
    "\"\"\"\n",
    "model = build_mlp()\n",
    "# 用 Keras 內建方法檢視模型各層參數量\n",
    "model.summary()\n",
    "\n",
    "optimizer = keras.optimizers.Adam(lr=0.001)\n",
    "model.compile(loss=\"categorical_crossentropy\", metrics=[\"accuracy\"], optimizer=optimizer)\n"
   ]
  },
  {
   "cell_type": "code",
   "execution_count": 7,
   "metadata": {
    "scrolled": true
   },
   "outputs": [
    {
     "name": "stdout",
     "output_type": "stream",
     "text": [
      "Train on 50000 samples, validate on 10000 samples\n",
      "Epoch 1/60\n",
      "50000/50000 [==============================] - 21s 425us/step - loss: 1.9290 - acc: 0.3054 - val_loss: 1.7459 - val_acc: 0.3707\n",
      "Epoch 2/60\n",
      "50000/50000 [==============================] - 21s 423us/step - loss: 1.6915 - acc: 0.3929 - val_loss: 1.6343 - val_acc: 0.4172\n",
      "Epoch 3/60\n",
      "50000/50000 [==============================] - 22s 441us/step - loss: 1.5972 - acc: 0.4280 - val_loss: 1.5608 - val_acc: 0.4501\n",
      "Epoch 4/60\n",
      "50000/50000 [==============================] - 23s 454us/step - loss: 1.5303 - acc: 0.4547 - val_loss: 1.5116 - val_acc: 0.4626\n",
      "Epoch 5/60\n",
      "50000/50000 [==============================] - 24s 477us/step - loss: 1.4969 - acc: 0.4664 - val_loss: 1.4863 - val_acc: 0.4719\n",
      "Epoch 6/60\n",
      "50000/50000 [==============================] - 22s 438us/step - loss: 1.4543 - acc: 0.4807 - val_loss: 1.4941 - val_acc: 0.4709\n",
      "Epoch 7/60\n",
      "50000/50000 [==============================] - 20s 391us/step - loss: 1.4268 - acc: 0.4910 - val_loss: 1.5561 - val_acc: 0.4504\n",
      "Epoch 8/60\n",
      "50000/50000 [==============================] - 21s 413us/step - loss: 1.3940 - acc: 0.5018 - val_loss: 1.4690 - val_acc: 0.4748\n",
      "Epoch 9/60\n",
      "50000/50000 [==============================] - 21s 430us/step - loss: 1.3656 - acc: 0.5142 - val_loss: 1.4152 - val_acc: 0.4941\n",
      "Epoch 10/60\n",
      "50000/50000 [==============================] - 25s 508us/step - loss: 1.3406 - acc: 0.5223 - val_loss: 1.4866 - val_acc: 0.4724\n",
      "Epoch 11/60\n",
      "50000/50000 [==============================] - 26s 513us/step - loss: 1.3174 - acc: 0.5312 - val_loss: 1.4006 - val_acc: 0.5028\n",
      "Epoch 12/60\n",
      "50000/50000 [==============================] - 22s 435us/step - loss: 1.2942 - acc: 0.5405 - val_loss: 1.4043 - val_acc: 0.5037\n",
      "Epoch 13/60\n",
      "50000/50000 [==============================] - 22s 443us/step - loss: 1.2768 - acc: 0.5473 - val_loss: 1.4097 - val_acc: 0.5059\n",
      "Epoch 14/60\n",
      "50000/50000 [==============================] - 23s 468us/step - loss: 1.2560 - acc: 0.5517 - val_loss: 1.3986 - val_acc: 0.5098\n",
      "Epoch 15/60\n",
      "50000/50000 [==============================] - 23s 453us/step - loss: 1.2299 - acc: 0.5628 - val_loss: 1.4520 - val_acc: 0.4894\n",
      "Epoch 16/60\n",
      "50000/50000 [==============================] - 23s 470us/step - loss: 1.2183 - acc: 0.5659 - val_loss: 1.4056 - val_acc: 0.5016\n",
      "Epoch 17/60\n",
      "50000/50000 [==============================] - 21s 425us/step - loss: 1.1952 - acc: 0.5735 - val_loss: 1.3508 - val_acc: 0.5265\n",
      "Epoch 18/60\n",
      "50000/50000 [==============================] - 22s 431us/step - loss: 1.1759 - acc: 0.5814 - val_loss: 1.3864 - val_acc: 0.5096\n",
      "Epoch 19/60\n",
      "50000/50000 [==============================] - 22s 431us/step - loss: 1.1604 - acc: 0.5876 - val_loss: 1.3638 - val_acc: 0.5201\n",
      "Epoch 20/60\n",
      "50000/50000 [==============================] - 21s 427us/step - loss: 1.1381 - acc: 0.5930 - val_loss: 1.3945 - val_acc: 0.5126\n",
      "Epoch 21/60\n",
      "50000/50000 [==============================] - 22s 433us/step - loss: 1.1165 - acc: 0.6005 - val_loss: 1.3824 - val_acc: 0.5219\n",
      "Epoch 22/60\n",
      "50000/50000 [==============================] - 22s 431us/step - loss: 1.1012 - acc: 0.6089 - val_loss: 1.4144 - val_acc: 0.5045\n",
      "Epoch 23/60\n",
      "50000/50000 [==============================] - 22s 432us/step - loss: 1.0912 - acc: 0.6107 - val_loss: 1.3786 - val_acc: 0.5227\n",
      "Epoch 24/60\n",
      "50000/50000 [==============================] - 21s 428us/step - loss: 1.0628 - acc: 0.6218 - val_loss: 1.3938 - val_acc: 0.5224\n",
      "Epoch 25/60\n",
      "50000/50000 [==============================] - 22s 438us/step - loss: 1.0598 - acc: 0.6236 - val_loss: 1.4057 - val_acc: 0.5220\n",
      "Epoch 26/60\n",
      "50000/50000 [==============================] - 22s 448us/step - loss: 1.0367 - acc: 0.6310 - val_loss: 1.3946 - val_acc: 0.5250\n",
      "Epoch 27/60\n",
      "50000/50000 [==============================] - 23s 451us/step - loss: 1.0101 - acc: 0.6403 - val_loss: 1.3977 - val_acc: 0.5249\n",
      "Epoch 28/60\n",
      "50000/50000 [==============================] - 22s 445us/step - loss: 0.9999 - acc: 0.6434 - val_loss: 1.4143 - val_acc: 0.5235\n",
      "Epoch 29/60\n",
      "50000/50000 [==============================] - 23s 467us/step - loss: 0.9765 - acc: 0.6526 - val_loss: 1.4184 - val_acc: 0.5275\n",
      "Epoch 30/60\n",
      "50000/50000 [==============================] - 23s 453us/step - loss: 0.9574 - acc: 0.6587 - val_loss: 1.4500 - val_acc: 0.5198\n",
      "Epoch 31/60\n",
      "50000/50000 [==============================] - 22s 447us/step - loss: 0.9442 - acc: 0.6650 - val_loss: 1.4437 - val_acc: 0.5273\n",
      "Epoch 32/60\n",
      "50000/50000 [==============================] - 22s 434us/step - loss: 0.9293 - acc: 0.6685 - val_loss: 1.4718 - val_acc: 0.5162\n",
      "Epoch 33/60\n",
      "50000/50000 [==============================] - 23s 451us/step - loss: 0.8962 - acc: 0.6824 - val_loss: 1.5306 - val_acc: 0.5103\n",
      "Epoch 34/60\n",
      "50000/50000 [==============================] - 22s 436us/step - loss: 0.8901 - acc: 0.6837 - val_loss: 1.4991 - val_acc: 0.5178\n",
      "Epoch 35/60\n",
      "50000/50000 [==============================] - 21s 417us/step - loss: 0.8711 - acc: 0.6882 - val_loss: 1.4913 - val_acc: 0.5243\n",
      "Epoch 36/60\n",
      "50000/50000 [==============================] - 20s 408us/step - loss: 0.8596 - acc: 0.6932 - val_loss: 1.4970 - val_acc: 0.5274\n",
      "Epoch 37/60\n",
      "50000/50000 [==============================] - 20s 402us/step - loss: 0.8464 - acc: 0.6973 - val_loss: 1.5338 - val_acc: 0.5108\n",
      "Epoch 38/60\n",
      "50000/50000 [==============================] - 22s 447us/step - loss: 0.8294 - acc: 0.7054 - val_loss: 1.5427 - val_acc: 0.5210\n",
      "Epoch 39/60\n",
      "50000/50000 [==============================] - 22s 435us/step - loss: 0.8068 - acc: 0.7133 - val_loss: 1.5512 - val_acc: 0.5196\n",
      "Epoch 40/60\n",
      "50000/50000 [==============================] - 21s 422us/step - loss: 0.7955 - acc: 0.7157 - val_loss: 1.5938 - val_acc: 0.5176\n",
      "Epoch 41/60\n",
      "50000/50000 [==============================] - 21s 422us/step - loss: 0.7822 - acc: 0.7184 - val_loss: 1.6146 - val_acc: 0.4997\n",
      "Epoch 42/60\n",
      "50000/50000 [==============================] - 21s 426us/step - loss: 0.7650 - acc: 0.7287 - val_loss: 1.6188 - val_acc: 0.5178\n",
      "Epoch 43/60\n",
      "50000/50000 [==============================] - 21s 424us/step - loss: 0.7599 - acc: 0.7292 - val_loss: 1.6261 - val_acc: 0.5144\n",
      "Epoch 44/60\n",
      "50000/50000 [==============================] - 21s 423us/step - loss: 0.7448 - acc: 0.7336 - val_loss: 1.6406 - val_acc: 0.5147\n",
      "Epoch 45/60\n",
      "50000/50000 [==============================] - 21s 428us/step - loss: 0.7151 - acc: 0.7433 - val_loss: 1.6833 - val_acc: 0.5178\n",
      "Epoch 46/60\n",
      "50000/50000 [==============================] - 21s 428us/step - loss: 0.7007 - acc: 0.7506 - val_loss: 1.6817 - val_acc: 0.5163\n",
      "Epoch 47/60\n",
      "50000/50000 [==============================] - 21s 425us/step - loss: 0.6904 - acc: 0.7545 - val_loss: 1.7175 - val_acc: 0.5129\n",
      "Epoch 48/60\n",
      "50000/50000 [==============================] - 21s 426us/step - loss: 0.6844 - acc: 0.7555 - val_loss: 1.6992 - val_acc: 0.5110\n",
      "Epoch 49/60\n",
      "50000/50000 [==============================] - 21s 427us/step - loss: 0.6628 - acc: 0.7632 - val_loss: 1.7727 - val_acc: 0.5135\n",
      "Epoch 50/60\n",
      "50000/50000 [==============================] - 22s 439us/step - loss: 0.6615 - acc: 0.7643 - val_loss: 1.8172 - val_acc: 0.5111\n",
      "Epoch 51/60\n",
      "50000/50000 [==============================] - 21s 427us/step - loss: 0.6416 - acc: 0.7699 - val_loss: 1.8099 - val_acc: 0.5054\n",
      "Epoch 52/60\n",
      "50000/50000 [==============================] - 21s 427us/step - loss: 0.6231 - acc: 0.7772 - val_loss: 1.8229 - val_acc: 0.5071\n",
      "Epoch 53/60\n",
      "50000/50000 [==============================] - 22s 446us/step - loss: 0.6350 - acc: 0.7726 - val_loss: 1.8648 - val_acc: 0.5034\n",
      "Epoch 54/60\n",
      "50000/50000 [==============================] - 22s 438us/step - loss: 0.6208 - acc: 0.7778 - val_loss: 1.9047 - val_acc: 0.5015\n",
      "Epoch 55/60\n",
      "50000/50000 [==============================] - 22s 446us/step - loss: 0.5978 - acc: 0.7860 - val_loss: 1.8641 - val_acc: 0.5045\n",
      "Epoch 56/60\n",
      "50000/50000 [==============================] - 22s 436us/step - loss: 0.5959 - acc: 0.7863 - val_loss: 1.9103 - val_acc: 0.5086\n",
      "Epoch 57/60\n",
      "50000/50000 [==============================] - 22s 436us/step - loss: 0.5660 - acc: 0.7992 - val_loss: 1.9759 - val_acc: 0.5030\n",
      "Epoch 58/60\n",
      "50000/50000 [==============================] - 22s 437us/step - loss: 0.5587 - acc: 0.8013 - val_loss: 1.9474 - val_acc: 0.5084\n",
      "Epoch 59/60\n"
     ]
    },
    {
     "name": "stdout",
     "output_type": "stream",
     "text": [
      "50000/50000 [==============================] - 21s 417us/step - loss: 0.5531 - acc: 0.8014 - val_loss: 1.9896 - val_acc: 0.4999\n",
      "Epoch 60/60\n",
      "50000/50000 [==============================] - 23s 458us/step - loss: 0.5477 - acc: 0.8034 - val_loss: 2.0116 - val_acc: 0.5104\n"
     ]
    },
    {
     "data": {
      "text/plain": [
       "<keras.callbacks.History at 0x25313cda898>"
      ]
     },
     "execution_count": 7,
     "metadata": {},
     "output_type": "execute_result"
    }
   ],
   "source": [
    "\"\"\"\n",
    "設定要訓練的 Epoch 數\n",
    "\"\"\"\n",
    "model.fit(x_train, y_train, \n",
    "          epochs=60, \n",
    "          batch_size=256, \n",
    "          validation_data=(x_test, y_test), \n",
    "          shuffle=True)"
   ]
  },
  {
   "cell_type": "code",
   "execution_count": 8,
   "metadata": {},
   "outputs": [
    {
     "data": {
      "image/png": "[encoded data removed]",
      "text/plain": [
       "<matplotlib.figure.Figure at 0x2531e069ac8>"
      ]
     },
     "metadata": {},
     "output_type": "display_data"
    },
    {
     "data": {
      "image/png": "[encoded data removed]",
      "text/plain": [
       "<matplotlib.figure.Figure at 0x2531d8fbc18>"
      ]
     },
     "metadata": {},
     "output_type": "display_data"
    }
   ],
   "source": [
    "import matplotlib.pyplot as plt\n",
    "# 以視覺畫方式檢視訓練過程\n",
    "\n",
    "train_loss = model.history.history[\"loss\"]\n",
    "valid_loss = model.history.history[\"val_loss\"]\n",
    "\n",
    "train_acc = model.history.history[\"acc\"]\n",
    "valid_acc = model.history.history[\"val_acc\"]\n",
    "\n",
    "plt.plot(range(len(train_loss)), train_loss, label=\"train loss\")\n",
    "plt.plot(range(len(valid_loss)), valid_loss, label=\"valid loss\")\n",
    "plt.legend()\n",
    "plt.title(\"Loss\")\n",
    "plt.show()\n",
    "\n",
    "plt.plot(range(len(train_acc)), train_acc, label=\"train accuracy\")\n",
    "plt.plot(range(len(valid_acc)), valid_acc, label=\"valid accuracy\")\n",
    "plt.legend()\n",
    "plt.title(\"Accuracy\")\n",
    "plt.show()"
   ]
  },
  {
   "cell_type": "code",
   "execution_count": 10,
   "metadata": {},
   "outputs": [
    {
     "name": "stdout",
     "output_type": "stream",
     "text": [
      "_________________________________________________________________\n",
      "Layer (type)                 Output Shape              Param #   \n",
      "=================================================================\n",
      "input_4 (InputLayer)         (None, 3072)              0         \n",
      "_________________________________________________________________\n",
      "dense_13 (Dense)             (None, 512)               1573376   \n",
      "_________________________________________________________________\n",
      "dense_14 (Dense)             (None, 256)               131328    \n",
      "_________________________________________________________________\n",
      "dense_15 (Dense)             (None, 128)               32896     \n",
      "_________________________________________________________________\n",
      "dense_16 (Dense)             (None, 10)                1290      \n",
      "=================================================================\n",
      "Total params: 1,738,890\n",
      "Trainable params: 1,738,890\n",
      "Non-trainable params: 0\n",
      "_________________________________________________________________\n"
     ]
    }
   ],
   "source": [
    "\"\"\"\n",
    "Compile 模型\n",
    "\"\"\"\n",
    "model = build_mlp()\n",
    "# 用 Keras 內建方法檢視模型各層參數量\n",
    "model.summary()\n",
    "\n",
    "optimizer = keras.optimizers.SGD(lr=0.001)\n",
    "model.compile(loss=\"categorical_crossentropy\", metrics=[\"accuracy\"], optimizer=optimizer)\n"
   ]
  },
  {
   "cell_type": "code",
   "execution_count": 11,
   "metadata": {
    "scrolled": true
   },
   "outputs": [
    {
     "name": "stdout",
     "output_type": "stream",
     "text": [
      "Train on 50000 samples, validate on 10000 samples\n",
      "Epoch 1/50\n",
      "50000/50000 [==============================] - 16s 313us/step - loss: 2.2637 - acc: 0.1384 - val_loss: 2.2117 - val_acc: 0.1934\n",
      "Epoch 2/50\n",
      "50000/50000 [==============================] - 16s 311us/step - loss: 2.1798 - acc: 0.2081 - val_loss: 2.1482 - val_acc: 0.2331\n",
      "Epoch 3/50\n",
      "50000/50000 [==============================] - 16s 316us/step - loss: 2.1246 - acc: 0.2399 - val_loss: 2.0999 - val_acc: 0.2598\n",
      "Epoch 4/50\n",
      "50000/50000 [==============================] - 17s 333us/step - loss: 2.0802 - acc: 0.2629 - val_loss: 2.0594 - val_acc: 0.2727\n",
      "Epoch 5/50\n",
      "50000/50000 [==============================] - 16s 329us/step - loss: 2.0428 - acc: 0.2817 - val_loss: 2.0252 - val_acc: 0.2947\n",
      "Epoch 6/50\n",
      "50000/50000 [==============================] - 17s 337us/step - loss: 2.0115 - acc: 0.2944 - val_loss: 1.9962 - val_acc: 0.3043\n",
      "Epoch 7/50\n",
      "50000/50000 [==============================] - 17s 333us/step - loss: 1.9846 - acc: 0.3053 - val_loss: 1.9709 - val_acc: 0.3127\n",
      "Epoch 8/50\n",
      "50000/50000 [==============================] - 17s 332us/step - loss: 1.9611 - acc: 0.3147 - val_loss: 1.9496 - val_acc: 0.3197\n",
      "Epoch 9/50\n",
      "50000/50000 [==============================] - 17s 333us/step - loss: 1.9410 - acc: 0.3213 - val_loss: 1.9313 - val_acc: 0.3272\n",
      "Epoch 10/50\n",
      "50000/50000 [==============================] - 17s 338us/step - loss: 1.9239 - acc: 0.3281 - val_loss: 1.9159 - val_acc: 0.3294\n",
      "Epoch 11/50\n",
      "50000/50000 [==============================] - 17s 337us/step - loss: 1.9091 - acc: 0.3331 - val_loss: 1.9013 - val_acc: 0.3378\n",
      "Epoch 12/50\n",
      "50000/50000 [==============================] - 17s 336us/step - loss: 1.8959 - acc: 0.3384 - val_loss: 1.8901 - val_acc: 0.3423\n",
      "Epoch 13/50\n",
      "50000/50000 [==============================] - 17s 336us/step - loss: 1.8844 - acc: 0.3416 - val_loss: 1.8787 - val_acc: 0.3469\n",
      "Epoch 14/50\n",
      "50000/50000 [==============================] - 17s 334us/step - loss: 1.8738 - acc: 0.3452 - val_loss: 1.8689 - val_acc: 0.3509\n",
      "Epoch 15/50\n",
      "50000/50000 [==============================] - 17s 340us/step - loss: 1.8641 - acc: 0.3488 - val_loss: 1.8600 - val_acc: 0.3538\n",
      "Epoch 16/50\n",
      "50000/50000 [==============================] - 17s 338us/step - loss: 1.8553 - acc: 0.3524 - val_loss: 1.8514 - val_acc: 0.3548\n",
      "Epoch 17/50\n",
      "50000/50000 [==============================] - 17s 338us/step - loss: 1.8469 - acc: 0.3554 - val_loss: 1.8434 - val_acc: 0.3594\n",
      "Epoch 18/50\n",
      "50000/50000 [==============================] - 17s 339us/step - loss: 1.8390 - acc: 0.3585 - val_loss: 1.8365 - val_acc: 0.3613\n",
      "Epoch 19/50\n",
      "50000/50000 [==============================] - 17s 346us/step - loss: 1.8319 - acc: 0.3604 - val_loss: 1.8293 - val_acc: 0.3637\n",
      "Epoch 20/50\n",
      "50000/50000 [==============================] - 17s 339us/step - loss: 1.8248 - acc: 0.3638 - val_loss: 1.8230 - val_acc: 0.3648\n",
      "Epoch 21/50\n",
      "50000/50000 [==============================] - 17s 338us/step - loss: 1.8182 - acc: 0.3663 - val_loss: 1.8164 - val_acc: 0.3682\n",
      "Epoch 22/50\n",
      "50000/50000 [==============================] - 17s 338us/step - loss: 1.8118 - acc: 0.3684 - val_loss: 1.8102 - val_acc: 0.3700\n",
      "Epoch 23/50\n",
      "50000/50000 [==============================] - 17s 342us/step - loss: 1.8056 - acc: 0.3717 - val_loss: 1.8055 - val_acc: 0.3704\n",
      "Epoch 24/50\n",
      "50000/50000 [==============================] - 18s 350us/step - loss: 1.7999 - acc: 0.3726 - val_loss: 1.8003 - val_acc: 0.3730\n",
      "Epoch 25/50\n",
      "50000/50000 [==============================] - 17s 340us/step - loss: 1.7941 - acc: 0.3754 - val_loss: 1.7932 - val_acc: 0.3764\n",
      "Epoch 26/50\n",
      "50000/50000 [==============================] - 17s 338us/step - loss: 1.7888 - acc: 0.3763 - val_loss: 1.7882 - val_acc: 0.3791\n",
      "Epoch 27/50\n",
      "50000/50000 [==============================] - 17s 344us/step - loss: 1.7836 - acc: 0.3799 - val_loss: 1.7833 - val_acc: 0.3797\n",
      "Epoch 28/50\n",
      "50000/50000 [==============================] - 17s 339us/step - loss: 1.7785 - acc: 0.3816 - val_loss: 1.7779 - val_acc: 0.3827\n",
      "Epoch 29/50\n",
      "50000/50000 [==============================] - 17s 338us/step - loss: 1.7735 - acc: 0.3826 - val_loss: 1.7748 - val_acc: 0.3827\n",
      "Epoch 30/50\n",
      "50000/50000 [==============================] - 17s 340us/step - loss: 1.7685 - acc: 0.3846 - val_loss: 1.7727 - val_acc: 0.3827\n",
      "Epoch 31/50\n",
      "50000/50000 [==============================] - 17s 344us/step - loss: 1.7642 - acc: 0.3864 - val_loss: 1.7640 - val_acc: 0.3881\n",
      "Epoch 32/50\n",
      "50000/50000 [==============================] - 17s 337us/step - loss: 1.7594 - acc: 0.3874 - val_loss: 1.7602 - val_acc: 0.3879\n",
      "Epoch 33/50\n",
      "50000/50000 [==============================] - 17s 337us/step - loss: 1.7549 - acc: 0.3897 - val_loss: 1.7557 - val_acc: 0.3887\n",
      "Epoch 34/50\n",
      "50000/50000 [==============================] - 17s 337us/step - loss: 1.7505 - acc: 0.3899 - val_loss: 1.7515 - val_acc: 0.3896\n",
      "Epoch 35/50\n",
      "50000/50000 [==============================] - 17s 337us/step - loss: 1.7465 - acc: 0.3921 - val_loss: 1.7476 - val_acc: 0.3889\n",
      "Epoch 36/50\n",
      "50000/50000 [==============================] - 17s 340us/step - loss: 1.7421 - acc: 0.3942 - val_loss: 1.7437 - val_acc: 0.3929\n",
      "Epoch 37/50\n",
      "50000/50000 [==============================] - 17s 338us/step - loss: 1.7382 - acc: 0.3952 - val_loss: 1.7423 - val_acc: 0.3930\n",
      "Epoch 38/50\n",
      "50000/50000 [==============================] - 17s 342us/step - loss: 1.7340 - acc: 0.3967 - val_loss: 1.7350 - val_acc: 0.3975\n",
      "Epoch 39/50\n",
      "50000/50000 [==============================] - 17s 343us/step - loss: 1.7301 - acc: 0.3979 - val_loss: 1.7312 - val_acc: 0.3986\n",
      "Epoch 40/50\n",
      "50000/50000 [==============================] - 17s 341us/step - loss: 1.7264 - acc: 0.3992 - val_loss: 1.7273 - val_acc: 0.3980\n",
      "Epoch 41/50\n",
      "50000/50000 [==============================] - 17s 349us/step - loss: 1.7223 - acc: 0.4004 - val_loss: 1.7268 - val_acc: 0.3984\n",
      "Epoch 42/50\n",
      "50000/50000 [==============================] - 17s 342us/step - loss: 1.7186 - acc: 0.4025 - val_loss: 1.7206 - val_acc: 0.4024\n",
      "Epoch 43/50\n",
      "50000/50000 [==============================] - 17s 344us/step - loss: 1.7151 - acc: 0.4030 - val_loss: 1.7176 - val_acc: 0.4020\n",
      "Epoch 44/50\n",
      "50000/50000 [==============================] - 17s 341us/step - loss: 1.7112 - acc: 0.4057 - val_loss: 1.7139 - val_acc: 0.4042\n",
      "Epoch 45/50\n",
      "50000/50000 [==============================] - 17s 345us/step - loss: 1.7076 - acc: 0.4055 - val_loss: 1.7108 - val_acc: 0.4050\n",
      "Epoch 46/50\n",
      "50000/50000 [==============================] - 17s 343us/step - loss: 1.7041 - acc: 0.4076 - val_loss: 1.7062 - val_acc: 0.4061\n",
      "Epoch 47/50\n",
      "50000/50000 [==============================] - 17s 341us/step - loss: 1.7006 - acc: 0.4085 - val_loss: 1.7074 - val_acc: 0.4029\n",
      "Epoch 48/50\n",
      "50000/50000 [==============================] - 17s 343us/step - loss: 1.6975 - acc: 0.4094 - val_loss: 1.6992 - val_acc: 0.4092\n",
      "Epoch 49/50\n",
      "50000/50000 [==============================] - 17s 343us/step - loss: 1.6938 - acc: 0.4106 - val_loss: 1.6995 - val_acc: 0.4088\n",
      "Epoch 50/50\n",
      "50000/50000 [==============================] - 17s 347us/step - loss: 1.6902 - acc: 0.4120 - val_loss: 1.6950 - val_acc: 0.4094\n"
     ]
    },
    {
     "data": {
      "text/plain": [
       "<keras.callbacks.History at 0x2531d9dfdd8>"
      ]
     },
     "execution_count": 11,
     "metadata": {},
     "output_type": "execute_result"
    }
   ],
   "source": [
    "\"\"\"\n",
    "設定要訓練的 Epoch 數\n",
    "\"\"\"\n",
    "model.fit(x_train, y_train, \n",
    "          epochs=50, \n",
    "          batch_size=256, \n",
    "          validation_data=(x_test, y_test), \n",
    "          shuffle=True)"
   ]
  },
  {
   "cell_type": "code",
   "execution_count": 13,
   "metadata": {},
   "outputs": [
    {
     "data": {
      "image/png": "[encoded data removed]",
      "text/plain": [
       "<matplotlib.figure.Figure at 0x2531dcee940>"
      ]
     },
     "metadata": {},
     "output_type": "display_data"
    },
    {
     "data": {
      "image/png": "[encoded data removed]",
      "text/plain": [
       "<matplotlib.figure.Figure at 0x2531ddd30b8>"
      ]
     },
     "metadata": {},
     "output_type": "display_data"
    }
   ],
   "source": [
    "import matplotlib.pyplot as plt\n",
    "# 以視覺畫方式檢視訓練過程\n",
    "\n",
    "train_loss = model.history.history[\"loss\"]\n",
    "valid_loss = model.history.history[\"val_loss\"]\n",
    "\n",
    "train_acc = model.history.history[\"acc\"]\n",
    "valid_acc = model.history.history[\"val_acc\"]\n",
    "\n",
    "plt.plot(range(len(train_loss)), train_loss, label=\"train loss\")\n",
    "plt.plot(range(len(valid_loss)), valid_loss, label=\"valid loss\")\n",
    "plt.legend()\n",
    "plt.title(\"Loss\")\n",
    "plt.show()\n",
    "\n",
    "plt.plot(range(len(train_acc)), train_acc, label=\"train accuracy\")\n",
    "plt.plot(range(len(valid_acc)), valid_acc, label=\"valid accuracy\")\n",
    "plt.legend()\n",
    "plt.title(\"Accuracy\")\n",
    "plt.show()"
   ]
  },
  {
   "cell_type": "code",
   "execution_count": null,
   "metadata": {},
   "outputs": [],
   "source": []
  },
  {
   "cell_type": "code",
   "execution_count": null,
   "metadata": {},
   "outputs": [],
   "source": []
  }
 ],
 "metadata": {
  "kernelspec": {
   "display_name": "Python 3",
   "language": "python",
   "name": "python3"
  },
  "language_info": {
   "codemirror_mode": {
    "name": "ipython",
    "version": 3
   },
   "file_extension": ".py",
   "mimetype": "text/x-python",
   "name": "python",
   "nbconvert_exporter": "python",
   "pygments_lexer": "ipython3",
   "version": "3.6.4"
  }
 },
 "nbformat": 4,
 "nbformat_minor": 2
}
